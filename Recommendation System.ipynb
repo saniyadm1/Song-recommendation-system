{
 "cells": [
  {
   "cell_type": "markdown",
   "metadata": {},
   "source": [
    "## Recommendation System with Feedback from the User"
   ]
  },
  {
   "cell_type": "code",
   "execution_count": 2,
   "metadata": {},
   "outputs": [],
   "source": [
    "import pandas as pd\n",
    "import numpy as np"
   ]
  },
  {
   "cell_type": "markdown",
   "metadata": {},
   "source": [
    "### Prompt the user to input a song "
   ]
  },
  {
   "cell_type": "code",
   "execution_count": 5,
   "metadata": {},
   "outputs": [
    {
     "name": "stdout",
     "output_type": "stream",
     "text": [
      "Enter a song sympathy-for-the-devil\n"
     ]
    },
    {
     "data": {
      "text/plain": [
       "'sympathy-for-the-devil'"
      ]
     },
     "execution_count": 5,
     "metadata": {},
     "output_type": "execute_result"
    }
   ],
   "source": [
    "txt = input(\"Enter a song \")\n",
    "txt"
   ]
  },
  {
   "cell_type": "code",
   "execution_count": 6,
   "metadata": {},
   "outputs": [],
   "source": [
    "data = pd.read_csv(\"file_name.csv\")"
   ]
  },
  {
   "cell_type": "code",
   "execution_count": 7,
   "metadata": {},
   "outputs": [],
   "source": [
    "#data['song'].loc[data['group']=='Anger']"
   ]
  },
  {
   "cell_type": "code",
   "execution_count": 8,
   "metadata": {},
   "outputs": [],
   "source": [
    "classLabel=data['group'].loc[data['song'] == txt]"
   ]
  },
  {
   "cell_type": "code",
   "execution_count": 9,
   "metadata": {},
   "outputs": [
    {
     "data": {
      "text/plain": [
       "'Anger'"
      ]
     },
     "execution_count": 9,
     "metadata": {},
     "output_type": "execute_result"
    }
   ],
   "source": [
    "Search = classLabel.tolist()\n",
    "emotion = ''.join(Search)\n",
    "emotion"
   ]
  },
  {
   "cell_type": "markdown",
   "metadata": {},
   "source": [
    "### Recommendation System"
   ]
  },
  {
   "cell_type": "code",
   "execution_count": 10,
   "metadata": {},
   "outputs": [],
   "source": [
    "def recommend(emotion): \n",
    "    if emotion == 'Negative':\n",
    "        rslt_df = data.loc[data['group'] == 'Joy']\n",
    "        song=rslt_df[['song','group']]\n",
    "        print(song[:10])\n",
    "        feedback = input(\"Do you wish to select a song from the playlist \")\n",
    "        if feedback == \"no\":\n",
    "            new_df = data.loc[data['group'] == 'Negative']\n",
    "            song=new_df[['song','group']]\n",
    "            print(song[:10])\n",
    "        else: \n",
    "            print(\"happy listening!!\")\n",
    "        \n",
    "    elif emotion == 'Positive':\n",
    "        rslt_df = data.loc[data['group'] == 'Joy'] \n",
    "        song=rslt_df[['song','group']]\n",
    "        print(song[:10])\n",
    "        feedback = input(\"Do you wish to select a song from the playlist \")\n",
    "        if feedback == \"no\":\n",
    "            new_df = data.loc[data['group'] == 'Positive']\n",
    "            song=new_df[['song','group']]\n",
    "            print(song[:10])\n",
    "        else: \n",
    "            print(\"happy listening!!\")\n",
    "            \n",
    "    elif emotion == 'Joy':\n",
    "        rslt_df = data.loc[data['group'] == 'Positive'] \n",
    "        song=rslt_df[['song','group']]\n",
    "        print(song[:10])\n",
    "        feedback = input(\"Do you wish to select a song from the playlist \")\n",
    "        if feedback == \"no\":\n",
    "            new_df = data.loc[data['group'] == 'Joy']\n",
    "            song=new_df[['song','group']]\n",
    "            print(song[:10])\n",
    "        else: \n",
    "            print(\"happy listening!!\")\n",
    "            \n",
    "    elif emotion == 'Sadness':\n",
    "        rslt_df = data.loc[data['group'] == 'Joy'] \n",
    "        song=rslt_df[['song','group']]\n",
    "        print(song[:10])\n",
    "        feedback = input(\"Do you wish to select a song from the playlist \")\n",
    "        if feedback == \"no\":\n",
    "            new_df = data.loc[data['group'] == 'Sadness']\n",
    "            song=new_df[['song','group']]\n",
    "            print(song[:10])\n",
    "        else: \n",
    "            print(\"happy listening!!\")\n",
    "            \n",
    "    elif emotion == 'Anger':\n",
    "        rslt_df = data.loc[data['group'] == 'Joy'] \n",
    "        song=rslt_df[['song','group']]\n",
    "        print(song[:10])\n",
    "        feedback = input(\"Do you wish to select a song from the playlist \")\n",
    "        if feedback == \"no\":\n",
    "            new_df = data.loc[data['group'] == 'Anger']\n",
    "            song=new_df[['song','group']]\n",
    "            print(song[:10])\n",
    "        else: \n",
    "            print(\"happy listening!!\")\n",
    "            \n",
    "    elif emotion == 'Fear':\n",
    "        rslt_df = data.loc[data['group'] == 'Happy'] \n",
    "        song=rslt_df[['song','group']]\n",
    "        print(song[:10])\n",
    "        feedback = input(\"Do you wish to select a song from the playlist \")\n",
    "        if feedback == \"no\":\n",
    "            new_df = data.loc[data['group'] == 'Fear']\n",
    "            song=new_df[['song','group']]\n",
    "            print(song[:10])\n",
    "        else: \n",
    "            print(\"happy listening!!\")\n",
    "            \n",
    "    elif emotion == 'Trust':\n",
    "        rslt_df = data.loc[data['group'] == 'Positive'] \n",
    "        song=rslt_df[['song','group']]\n",
    "        print(song[:10])\n",
    "        feedback = input(\"Do you wish to select a song from the playlist \")\n",
    "        if feedback == \"no\":\n",
    "            new_df = data.loc[data['group'] == 'Trust']\n",
    "            song=new_df[['song','group']]\n",
    "            print(song[:10])\n",
    "        else: \n",
    "            print(\"happy listening!!\")\n",
    "            \n",
    "    elif emotion == 'Disgust':\n",
    "        rslt_df = data.loc[data['group'] == 'Neutral'] \n",
    "        song=rslt_df[['song','group']]\n",
    "        print(song[:10])\n",
    "        feedback = input(\"Do you wish to select a song from the playlist \")\n",
    "        if feedback == \"no\":\n",
    "            new_df = data.loc[data['group'] == 'Sadness']\n",
    "            song=new_df[['song','group']]\n",
    "            print(song[:10])\n",
    "        else: \n",
    "            print(\"happy listening!!\")\n",
    "            \n",
    "    elif emotion == 'Trust':\n",
    "        rslt_df = data.loc[data['group'] == 'Joy'] \n",
    "        song=rslt_df[['song','group']]\n",
    "        print(song[:10])\n",
    "        feedback = input(\"Do you wish to select a song from the playlist \")\n",
    "        if feedback == \"no\":\n",
    "            new_df = data.loc[data['group'] == 'Trust']\n",
    "            song=new_df[['song','group']]\n",
    "            print(song[:10])\n",
    "        else: \n",
    "            print(\"happy listening!!\")\n",
    "    "
   ]
  },
  {
   "cell_type": "code",
   "execution_count": 11,
   "metadata": {},
   "outputs": [
    {
     "name": "stdout",
     "output_type": "stream",
     "text": [
      "                       song group\n",
      "2                   honesty   Joy\n",
      "43                 diamonds   Joy\n",
      "86       hope-for-haiti-now   Joy\n",
      "105             check-on-it   Joy\n",
      "149       beyonce-interlude   Joy\n",
      "219                    halo   Joy\n",
      "235                halo-ego   Joy\n",
      "238                   hello   Joy\n",
      "349  willst-du-mit-mir-gehn   Joy\n",
      "413                     why   Joy\n",
      "Do you wish to select a song from the playlist no\n",
      "                                         song  group\n",
      "71                                       blue  Anger\n",
      "480                                       hot  Anger\n",
      "546   speak-softly-you-re-talking-to-my-heart  Anger\n",
      "561                      with-any-luck-at-all  Anger\n",
      "817           electric-spanking-of-war-babies  Anger\n",
      "846         foot-soldiers-star-spangled-funky  Anger\n",
      "1183                       hey-how-johnie-lad  Anger\n",
      "1403                        dime-in-my-pocket  Anger\n",
      "1613      the-fine-line-between-love-and-hate  Anger\n",
      "1721                                dr-doktor  Anger\n"
     ]
    }
   ],
   "source": [
    "recommend(emotion)"
   ]
  },
  {
   "cell_type": "code",
   "execution_count": null,
   "metadata": {},
   "outputs": [],
   "source": []
  }
 ],
 "metadata": {
  "kernelspec": {
   "display_name": "Python 3",
   "language": "python",
   "name": "python3"
  },
  "language_info": {
   "codemirror_mode": {
    "name": "ipython",
    "version": 3
   },
   "file_extension": ".py",
   "mimetype": "text/x-python",
   "name": "python",
   "nbconvert_exporter": "python",
   "pygments_lexer": "ipython3",
   "version": "3.6.7"
  }
 },
 "nbformat": 4,
 "nbformat_minor": 2
}
